{
  "nbformat": 4,
  "nbformat_minor": 0,
  "metadata": {
    "colab": {
      "provenance": [],
      "include_colab_link": true
    },
    "kernelspec": {
      "name": "python3",
      "display_name": "Python 3"
    },
    "language_info": {
      "name": "python"
    }
  },
  "cells": [
    {
      "cell_type": "markdown",
      "metadata": {
        "id": "view-in-github",
        "colab_type": "text"
      },
      "source": [
        "<a href=\"https://colab.research.google.com/github/christianjoshuauy/QuantumComputing/blob/main/Christian_L2_Homework_Supplement_Notebook.ipynb\" target=\"_parent\"><img src=\"https://colab.research.google.com/assets/colab-badge.svg\" alt=\"Open In Colab\"/></a>"
      ]
    },
    {
      "cell_type": "markdown",
      "source": [
        "In the following exercise, we will use the sympy library to define a matrix and a column vector. Then use this to do multiply a matrix to a vector which is very important in Quantum Computing. You will be asked to copy and paste code and to modify it to answer the questions.\n",
        "\n",
        "You will be asked to input your code in between these two placeholders:\n",
        "\n",
        "```python\n",
        "# type code here\n",
        "\n",
        "# end of code\n",
        "```"
      ],
      "metadata": {
        "id": "LM2wEdoWp5pg"
      }
    },
    {
      "cell_type": "markdown",
      "source": [
        "Exercise: An operator H has the following matrix\n",
        "\n",
        "$$\n",
        "H = \\frac{1}{\\sqrt{2}}\\left[\\begin{array}{cc}1 & 1\\\\1 & -1\\end{array}\\right]\n",
        "$$\n",
        "\n",
        "Below is the program to declare and display this matrix. Run the program to display the output."
      ],
      "metadata": {
        "id": "cM5vB0TJTMtl"
      }
    },
    {
      "cell_type": "code",
      "source": [
        "from sympy import Matrix, init_printing, sqrt\n",
        "\n",
        "# Initialize pretty printing\n",
        "init_printing(use_unicode=True)\n",
        "\n",
        "# Define the matrix H\n",
        "H = 1/sqrt(2)*Matrix([[1, 1], [1, -1]])\n",
        "\n",
        "H\n"
      ],
      "metadata": {
        "id": "gbSvgHmAeSVU",
        "colab": {
          "base_uri": "https://localhost:8080/",
          "height": 68
        },
        "outputId": "73780572-416d-4f27-e6e0-8b82707acbce"
      },
      "execution_count": null,
      "outputs": [
        {
          "output_type": "execute_result",
          "data": {
            "text/plain": [
              "⎡√2   √2 ⎤\n",
              "⎢──   ── ⎥\n",
              "⎢2    2  ⎥\n",
              "⎢        ⎥\n",
              "⎢√2  -√2 ⎥\n",
              "⎢──  ────⎥\n",
              "⎣2    2  ⎦"
            ],
            "text/latex": "$\\displaystyle \\left[\\begin{matrix}\\frac{\\sqrt{2}}{2} & \\frac{\\sqrt{2}}{2}\\\\\\frac{\\sqrt{2}}{2} & - \\frac{\\sqrt{2}}{2}\\end{matrix}\\right]$"
          },
          "metadata": {},
          "execution_count": 1
        }
      ]
    },
    {
      "cell_type": "markdown",
      "source": [
        "To get the product of $H$ with itself, namely\n",
        "\n",
        "$$\n",
        "H\\times H = H^2\n",
        "$$\n",
        "\n",
        "modify the code to compute\n",
        "\n",
        "```python\n",
        "product = H*H\n",
        "```\n",
        "\n",
        "What is the resulting matrix?"
      ],
      "metadata": {
        "id": "CGZ_G748hqwx"
      }
    },
    {
      "cell_type": "code",
      "source": [
        "from sympy import Matrix, init_printing, sqrt\n",
        "\n",
        "# Initialize pretty printing\n",
        "init_printing(use_unicode=True)\n",
        "\n",
        "# Define the matrix H\n",
        "H = 1/sqrt(2)*Matrix([[1, 1], [1, -1]])\n",
        "\n",
        "# Compute the product of H and H\n",
        "product = H*H\n",
        "product\n",
        "# type code here\n",
        "\n",
        "## end of code\n"
      ],
      "metadata": {
        "id": "6jBpOXFmhrhu",
        "colab": {
          "base_uri": "https://localhost:8080/",
          "height": 58
        },
        "outputId": "dae71c28-5081-4375-9a8a-8cdacc9c374f"
      },
      "execution_count": null,
      "outputs": [
        {
          "output_type": "execute_result",
          "data": {
            "text/plain": [
              "⎡1  0⎤\n",
              "⎢    ⎥\n",
              "⎣0  1⎦"
            ],
            "text/latex": "$\\displaystyle \\left[\\begin{matrix}1 & 0\\\\0 & 1\\end{matrix}\\right]$"
          },
          "metadata": {},
          "execution_count": 2
        }
      ]
    },
    {
      "cell_type": "markdown",
      "source": [
        "Define the operator $X$ to be\n",
        "\n",
        "$$\n",
        "X=\\left[ \\begin{array}{cc}0 & 1\\\\ 1 & 0\\end{array}\\right]\n",
        "$$\n",
        "\n",
        "Complete the code below to multiply XH"
      ],
      "metadata": {
        "id": "m935vlwqifuM"
      }
    },
    {
      "cell_type": "code",
      "source": [
        "from sympy import Matrix, init_printing, sqrt\n",
        "\n",
        "# Initialize pretty printing\n",
        "init_printing(use_unicode=True)\n",
        "\n",
        "# Define the matrix H\n",
        "H = 1/sqrt(2)*Matrix([[1, 1], [1, -1]])\n",
        "X = Matrix([[0, 1],[1,0]])\n",
        "\n",
        "# type code here\n",
        "product = X*H\n",
        "product\n",
        "\n",
        "## end of code"
      ],
      "metadata": {
        "id": "6tIc4-69h365",
        "colab": {
          "base_uri": "https://localhost:8080/",
          "height": 68
        },
        "outputId": "c5a7b18f-1c20-4a29-a774-2f984182d779"
      },
      "execution_count": null,
      "outputs": [
        {
          "output_type": "execute_result",
          "data": {
            "text/plain": [
              "⎡√2  -√2 ⎤\n",
              "⎢──  ────⎥\n",
              "⎢2    2  ⎥\n",
              "⎢        ⎥\n",
              "⎢√2   √2 ⎥\n",
              "⎢──   ── ⎥\n",
              "⎣2    2  ⎦"
            ],
            "text/latex": "$\\displaystyle \\left[\\begin{matrix}\\frac{\\sqrt{2}}{2} & - \\frac{\\sqrt{2}}{2}\\\\\\frac{\\sqrt{2}}{2} & \\frac{\\sqrt{2}}{2}\\end{matrix}\\right]$"
          },
          "metadata": {},
          "execution_count": 3
        }
      ]
    },
    {
      "cell_type": "markdown",
      "source": [
        "Define the following column vectors\n",
        "\n",
        "$$\n",
        "|0\\rangle = \\left[\\begin{array}{c} 1 \\\\ 0 \\end{array} \\right]\n",
        "$$\n",
        "$$\n",
        "|1\\rangle = \\left[\\begin{array}{c} 0 \\\\ 1 \\end{array} \\right]\n",
        "$$\n",
        "\n",
        "Define the variables\n",
        "\n",
        "$$\n",
        "ket\\_0 = |0\\rangle = \\left[\\begin{array}{c} 1 \\\\ 0 \\end{array} \\right]\n",
        "$$\n",
        "$$\n",
        "ket\\_1 = |1\\rangle = \\left[\\begin{array}{c} 0 \\\\ 1 \\end{array} \\right]\n",
        "$$\n",
        "\n",
        "what is the result of\n",
        "\n",
        "$$\n",
        "XH|0⟩\n",
        "$$\n",
        "?"
      ],
      "metadata": {
        "id": "oqz472iqjKOW"
      }
    },
    {
      "cell_type": "code",
      "source": [
        "from sympy import Matrix, init_printing, sqrt, factor\n",
        "\n",
        "# Initialize pretty printing\n",
        "init_printing(use_unicode=True)\n",
        "\n",
        "# Define the matrix H\n",
        "H = 1/sqrt(2)*Matrix([[1, 1], [1, -1]])\n",
        "\n",
        "# type code here\n",
        "\n",
        "X = Matrix([[0, 1], [1,0]])\n",
        "\n",
        "ket_0= Matrix([[1], [0]])\n",
        "ket_1= Matrix([[0], [1]])\n",
        "res = X * H * ket_0\n",
        "res\n",
        "\n",
        "# end of code"
      ],
      "metadata": {
        "id": "Wo4Z9xCijeLF",
        "colab": {
          "base_uri": "https://localhost:8080/",
          "height": 68
        },
        "outputId": "7edae865-da8e-4b1f-8366-1c07946d038d"
      },
      "execution_count": null,
      "outputs": [
        {
          "output_type": "execute_result",
          "data": {
            "text/plain": [
              "⎡√2⎤\n",
              "⎢──⎥\n",
              "⎢2 ⎥\n",
              "⎢  ⎥\n",
              "⎢√2⎥\n",
              "⎢──⎥\n",
              "⎣2 ⎦"
            ],
            "text/latex": "$\\displaystyle \\left[\\begin{matrix}\\frac{\\sqrt{2}}{2}\\\\\\frac{\\sqrt{2}}{2}\\end{matrix}\\right]$"
          },
          "metadata": {},
          "execution_count": 5
        }
      ]
    },
    {
      "cell_type": "markdown",
      "source": [
        "Define the $Z$ operator to be\n",
        "\n",
        "$$\n",
        "Z = \\left[\\begin{array}{cc}1 & 0 \\\\ 0 & -1\\end{array}\\right]\n",
        "$$\n",
        "\n",
        "Complete the program below to compute the result of\n",
        "\n",
        "$$\n",
        "Z|0⟩\n",
        "$$\n",
        "\n",
        "and\n",
        "\n",
        "$$\n",
        "Z|1⟩\n",
        "$$\n"
      ],
      "metadata": {
        "id": "8bqd19-HmfVV"
      }
    },
    {
      "cell_type": "code",
      "source": [
        "from sympy import Matrix, init_printing, sqrt, factor\n",
        "\n",
        "# Initialize pretty printing\n",
        "init_printing(use_unicode=True)\n",
        "\n",
        "# Define the matrix H\n",
        "H = 1/sqrt(2)*Matrix([[1, 1], [1, -1]])\n",
        "\n",
        "# type code here\n",
        "Z = Matrix([[1, 0], [0,-1]])\n",
        "\n",
        "ket_0= Matrix([[1],[0]])\n",
        "ket_1= Matrix([[0],[1]])\n",
        "\n",
        "result = Z * ket_0\n",
        "result2 = Z * ket_1\n",
        "result, result2\n",
        "\n",
        "# end of code"
      ],
      "metadata": {
        "id": "5SF8yE1pnCGD",
        "colab": {
          "base_uri": "https://localhost:8080/",
          "height": 58
        },
        "outputId": "5950d51e-d050-43b2-d4ca-c1cdfc2f2c83"
      },
      "execution_count": null,
      "outputs": [
        {
          "output_type": "execute_result",
          "data": {
            "text/plain": [
              "⎛⎡1⎤  ⎡0 ⎤⎞\n",
              "⎜⎢ ⎥, ⎢  ⎥⎟\n",
              "⎝⎣0⎦  ⎣-1⎦⎠"
            ],
            "text/latex": "$\\displaystyle \\left( \\left[\\begin{matrix}1\\\\0\\end{matrix}\\right], \\  \\left[\\begin{matrix}0\\\\-1\\end{matrix}\\right]\\right)$"
          },
          "metadata": {},
          "execution_count": 11
        }
      ]
    },
    {
      "cell_type": "markdown",
      "source": [
        "Complete the code to compute:\n",
        "\n",
        "$$\n",
        "ZH\n",
        "$$\n"
      ],
      "metadata": {
        "id": "tpUOVQGNn0U2"
      }
    },
    {
      "cell_type": "code",
      "source": [
        "from sympy import Matrix, init_printing, sqrt, factor\n",
        "\n",
        "# Initialize pretty printing\n",
        "init_printing(use_unicode=True)\n",
        "\n",
        "# Define the matrix H\n",
        "H = 1/sqrt(2)*Matrix([[1, 1], [1, -1]])\n",
        "\n",
        "# type code here\n",
        "Z = Matrix([[1, 0], [0,-1]])\n",
        "\n",
        "ket_0= Matrix([[1],[0]])\n",
        "ket_1= Matrix([[0],[1]])\n",
        "\n",
        "# Compute the product of H and H\n",
        "# type code here\n",
        "result=Z * H\n",
        "result\n"
      ],
      "metadata": {
        "id": "JNhYH-B-n--I",
        "colab": {
          "base_uri": "https://localhost:8080/",
          "height": 68
        },
        "outputId": "5013c84f-18fa-464e-b734-7390fea4802a"
      },
      "execution_count": null,
      "outputs": [
        {
          "output_type": "execute_result",
          "data": {
            "text/plain": [
              "⎡ √2   √2⎤\n",
              "⎢ ──   ──⎥\n",
              "⎢ 2    2 ⎥\n",
              "⎢        ⎥\n",
              "⎢-√2   √2⎥\n",
              "⎢────  ──⎥\n",
              "⎣ 2    2 ⎦"
            ],
            "text/latex": "$\\displaystyle \\left[\\begin{matrix}\\frac{\\sqrt{2}}{2} & \\frac{\\sqrt{2}}{2}\\\\- \\frac{\\sqrt{2}}{2} & \\frac{\\sqrt{2}}{2}\\end{matrix}\\right]$"
          },
          "metadata": {},
          "execution_count": 10
        }
      ]
    },
    {
      "cell_type": "markdown",
      "source": [
        "Exercise: Using the method *norm* of Matrix class, we can compute the norm of\n",
        "\n",
        "$$\n",
        "|\\psi\\rangle = 1/2 |0\\rangle + \\sqrt(3)/2|0⟩$$\n",
        "\n",
        "using\n",
        "\n",
        "```python\n",
        "psi=1/2*ket_0 + sqrt(3)/2 * ket_1\n",
        "norm=psi.norm()\n",
        "```\n",
        "\n",
        "complete the code below to determine the norm of $|\\psi\\rangle$\n",
        "\n"
      ],
      "metadata": {
        "id": "NqD9UyCZZAxC"
      }
    },
    {
      "cell_type": "code",
      "source": [
        "from sympy import Matrix, init_printing, sqrt, factor\n",
        "\n",
        "# Initialize pretty printing\n",
        "init_printing(use_unicode=True)\n",
        "\n",
        "# Define the matrix H\n",
        "H = 1/sqrt(2)*Matrix([[1, 1], [1, -1]])\n",
        "ket_0=Matrix([[1],[0]])\n",
        "ket_1=Matrix([[0],[1]])\n",
        "# type code here\n",
        "psi=1/2*ket_0 + sqrt(3)/2 * ket_1\n",
        "norm=psi.norm()\n",
        "norm\n",
        "\n",
        "# end of code\n",
        "\n"
      ],
      "metadata": {
        "id": "-cm0h90lZQU4",
        "colab": {
          "base_uri": "https://localhost:8080/",
          "height": 37
        },
        "outputId": "91763d44-2a72-4b3f-fa8d-c278096ab50c"
      },
      "execution_count": null,
      "outputs": [
        {
          "output_type": "execute_result",
          "data": {
            "text/plain": [
              "1.00000000000000"
            ],
            "text/latex": "$\\displaystyle 1.0$"
          },
          "metadata": {},
          "execution_count": 12
        }
      ]
    },
    {
      "cell_type": "markdown",
      "source": [
        "Compute the norm of\n",
        "\n",
        "$$\n",
        "|\\psi\\rangle = -\\frac{i}{3} - \\frac{\\sqrt{3}}{2}|1\\rangle\n",
        "$$\n",
        "\n",
        "Note: the imaginary number $i$ is `I` in sympy. For example $-\\frac{i}{3}$ is\n",
        "\n",
        "```python\n",
        "from sympy import I\n",
        "\n",
        "-I/3\n",
        "```"
      ],
      "metadata": {
        "id": "70zmqACYdss-"
      }
    },
    {
      "cell_type": "code",
      "source": [
        "from sympy import I,  Matrix, init_printing, sqrt, factor\n",
        "\n",
        "# Initialize pretty printing\n",
        "init_printing(use_unicode=True)\n",
        "\n",
        "# Define the matrix H\n",
        "H = 1/sqrt(2)*Matrix([[1, 1], [1, -1]])\n",
        "ket_0=Matrix([[1],[0]])\n",
        "ket_1=Matrix([[0],[1]])\n",
        "# type code here\n",
        "res = -I / 3 * ket_0 - (sqrt(3) / 2) * ket_1\n",
        "res.norm()\n",
        "\n",
        "# end of code\n"
      ],
      "metadata": {
        "id": "YpTep1a8dv90",
        "colab": {
          "base_uri": "https://localhost:8080/",
          "height": 55
        },
        "outputId": "e9850491-92b4-4bb3-8fa9-6403e58db113"
      },
      "execution_count": null,
      "outputs": [
        {
          "output_type": "execute_result",
          "data": {
            "text/plain": [
              "√31\n",
              "───\n",
              " 6 "
            ],
            "text/latex": "$\\displaystyle \\frac{\\sqrt{31}}{6}$"
          },
          "metadata": {},
          "execution_count": 17
        }
      ]
    },
    {
      "cell_type": "code",
      "source": [],
      "metadata": {
        "id": "23GvFcVxSOIM"
      },
      "execution_count": null,
      "outputs": []
    }
  ]
}